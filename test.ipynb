{
 "cells": [
  {
   "cell_type": "code",
   "execution_count": 1,
   "id": "6a16a93b",
   "metadata": {},
   "outputs": [
    {
     "name": "stdout",
     "output_type": "stream",
     "text": [
      "{\n",
      "  \"cosine_mean\": [\n",
      "    [\n",
      "      0.934232237206704,\n",
      "      \"JT\"\n",
      "    ],\n",
      "    [\n",
      "      0.7927367804843862,\n",
      "      \"INSCRIPTIS\"\n",
      "    ],\n",
      "    [\n",
      "      0.7018111813415397,\n",
      "      \"READABILITY\"\n",
      "    ],\n",
      "    [\n",
      "      0.536542767176781,\n",
      "      \"TRAF\"\n",
      "    ],\n",
      "    [\n",
      "      0.477580231362987,\n",
      "      \"BP3\"\n",
      "    ],\n",
      "    [\n",
      "      0.34482937984161827,\n",
      "      \"GOO\"\n",
      "    ],\n",
      "    [\n",
      "      0.31198803141182285,\n",
      "      \"NEWSPAPER\"\n",
      "    ],\n",
      "    [\n",
      "      0.2086080406168626,\n",
      "      \"HTML2TEXT\"\n",
      "    ]\n",
      "  ]\n",
      "}\n"
     ]
    }
   ],
   "source": [
    "from get_similarity import process_data\n",
    "\n",
    "path_hyp = \"dummy_data/cleaned/\"\n",
    "path_ref = \"dummy_data/reference/\"\n",
    "res = process_data(path_hyp, path_ref)\n",
    "\n",
    "\n",
    "import json\n",
    "print(json.dumps(res, indent =2))"
   ]
  },
  {
   "cell_type": "code",
   "execution_count": null,
   "id": "599f3213",
   "metadata": {},
   "outputs": [],
   "source": []
  }
 ],
 "metadata": {
  "kernelspec": {
   "display_name": "Python 3 (ipykernel)",
   "language": "python",
   "name": "python3"
  },
  "language_info": {
   "codemirror_mode": {
    "name": "ipython",
    "version": 3
   },
   "file_extension": ".py",
   "mimetype": "text/x-python",
   "name": "python",
   "nbconvert_exporter": "python",
   "pygments_lexer": "ipython3",
   "version": "3.10.9"
  }
 },
 "nbformat": 4,
 "nbformat_minor": 5
}
